{
  "nbformat": 4,
  "nbformat_minor": 0,
  "metadata": {
    "colab": {
      "name": "Time Series.ipynb",
      "version": "0.3.2",
      "provenance": []
    },
    "kernelspec": {
      "name": "python3",
      "display_name": "Python 3"
    }
  },
  "cells": [
    {
      "metadata": {
        "id": "z-oKVE_G9Tc1",
        "colab_type": "code",
        "outputId": "e77e225f-7448-4560-dcc9-81f44cef7cd2",
        "colab": {
          "base_uri": "https://localhost:8080/",
          "height": 34
        }
      },
      "cell_type": "code",
      "source": [
        "!ls "
      ],
      "execution_count": 0,
      "outputs": [
        {
          "output_type": "stream",
          "text": [
            "sample_data\n"
          ],
          "name": "stdout"
        }
      ]
    },
    {
      "metadata": {
        "id": "uPxUR7fz-bFC",
        "colab_type": "code",
        "colab": {}
      },
      "cell_type": "code",
      "source": [
        "import pandas as pd\n",
        "from sklearn.metrics import mean_squared_error\n",
        "from sklearn.preprocessing import MinMaxScaler\n",
        "from keras.models import Sequential\n",
        "from keras.layers import Dense\n",
        "from keras.layers import LSTM\n",
        "from math import sqrt\n",
        "import matplotlib.pyplot as plt\n",
        "plt.style.use('ggplot')\n",
        "import matplotlib.dates as mdates\n",
        "import seaborn as sns\n",
        "import numpy\n",
        "import numpy as np\n",
        "from sklearn.model_selection import train_test_split\n",
        "from sklearn.model_selection import TimeSeriesSplit\n",
        "%matplotlib inline"
      ],
      "execution_count": 0,
      "outputs": []
    },
    {
      "metadata": {
        "id": "UWRR5PAbBpnt",
        "colab_type": "code",
        "colab": {}
      },
      "cell_type": "code",
      "source": [
        "train = pd.read_csv(\"sample_data/training.csv\")\n",
        "test = pd.read_csv(\"sample_data/test.csv\")"
      ],
      "execution_count": 0,
      "outputs": []
    },
    {
      "metadata": {
        "id": "inoEhxdPzcG2",
        "colab_type": "code",
        "colab": {}
      },
      "cell_type": "code",
      "source": [
        "train=train[:6000]"
      ],
      "execution_count": 0,
      "outputs": []
    },
    {
      "metadata": {
        "id": "JZUv-VoTBt5q",
        "colab_type": "code",
        "outputId": "ae66dd68-435a-41a2-a119-b63b6d0fccd9",
        "colab": {
          "base_uri": "https://localhost:8080/",
          "height": 52
        }
      },
      "cell_type": "code",
      "source": [
        "print(train.shape)\n",
        "print(test.shape)"
      ],
      "execution_count": 0,
      "outputs": [
        {
          "output_type": "stream",
          "text": [
            "(6000, 16)\n",
            "(3000, 15)\n"
          ],
          "name": "stdout"
        }
      ]
    },
    {
      "metadata": {
        "id": "X2g8clFgBwL7",
        "colab_type": "code",
        "outputId": "7dbed69c-3d1a-45cf-d60e-f14d88388837",
        "colab": {
          "base_uri": "https://localhost:8080/",
          "height": 244
        }
      },
      "cell_type": "code",
      "source": [
        "train.head()"
      ],
      "execution_count": 0,
      "outputs": [
        {
          "output_type": "execute_result",
          "data": {
            "text/html": [
              "<div>\n",
              "<style scoped>\n",
              "    .dataframe tbody tr th:only-of-type {\n",
              "        vertical-align: middle;\n",
              "    }\n",
              "\n",
              "    .dataframe tbody tr th {\n",
              "        vertical-align: top;\n",
              "    }\n",
              "\n",
              "    .dataframe thead th {\n",
              "        text-align: right;\n",
              "    }\n",
              "</style>\n",
              "<table border=\"1\" class=\"dataframe\">\n",
              "  <thead>\n",
              "    <tr style=\"text-align: right;\">\n",
              "      <th></th>\n",
              "      <th>serial_number</th>\n",
              "      <th>time_stamp</th>\n",
              "      <th>1 year</th>\n",
              "      <th>2 year</th>\n",
              "      <th>3 year</th>\n",
              "      <th>4 year</th>\n",
              "      <th>5 year</th>\n",
              "      <th>6 year</th>\n",
              "      <th>7 year</th>\n",
              "      <th>8 year</th>\n",
              "      <th>9 year</th>\n",
              "      <th>10 year</th>\n",
              "      <th>15 year</th>\n",
              "      <th>20 year</th>\n",
              "      <th>25 year</th>\n",
              "      <th>30 year</th>\n",
              "    </tr>\n",
              "  </thead>\n",
              "  <tbody>\n",
              "    <tr>\n",
              "      <th>0</th>\n",
              "      <td>1</td>\n",
              "      <td>2006-10-17</td>\n",
              "      <td>0.555</td>\n",
              "      <td>0.746</td>\n",
              "      <td>0.935</td>\n",
              "      <td>1.107</td>\n",
              "      <td>1.276</td>\n",
              "      <td>1.399</td>\n",
              "      <td>1.512</td>\n",
              "      <td>1.623</td>\n",
              "      <td>1.711</td>\n",
              "      <td>1.793</td>\n",
              "      <td>2.084</td>\n",
              "      <td>2.263</td>\n",
              "      <td>2.446</td>\n",
              "      <td>2.518</td>\n",
              "    </tr>\n",
              "    <tr>\n",
              "      <th>1</th>\n",
              "      <td>2</td>\n",
              "      <td>2006-10-16</td>\n",
              "      <td>0.553</td>\n",
              "      <td>0.746</td>\n",
              "      <td>0.938</td>\n",
              "      <td>1.117</td>\n",
              "      <td>1.284</td>\n",
              "      <td>1.407</td>\n",
              "      <td>1.523</td>\n",
              "      <td>1.630</td>\n",
              "      <td>1.710</td>\n",
              "      <td>1.792</td>\n",
              "      <td>2.076</td>\n",
              "      <td>2.250</td>\n",
              "      <td>2.439</td>\n",
              "      <td>2.511</td>\n",
              "    </tr>\n",
              "    <tr>\n",
              "      <th>2</th>\n",
              "      <td>3</td>\n",
              "      <td>2006-10-13</td>\n",
              "      <td>0.513</td>\n",
              "      <td>0.703</td>\n",
              "      <td>0.884</td>\n",
              "      <td>1.063</td>\n",
              "      <td>1.235</td>\n",
              "      <td>1.360</td>\n",
              "      <td>1.479</td>\n",
              "      <td>1.592</td>\n",
              "      <td>1.677</td>\n",
              "      <td>1.763</td>\n",
              "      <td>2.052</td>\n",
              "      <td>2.238</td>\n",
              "      <td>2.434</td>\n",
              "      <td>2.508</td>\n",
              "    </tr>\n",
              "    <tr>\n",
              "      <th>3</th>\n",
              "      <td>4</td>\n",
              "      <td>2006-10-12</td>\n",
              "      <td>0.489</td>\n",
              "      <td>0.688</td>\n",
              "      <td>0.862</td>\n",
              "      <td>1.037</td>\n",
              "      <td>1.205</td>\n",
              "      <td>1.326</td>\n",
              "      <td>1.446</td>\n",
              "      <td>1.563</td>\n",
              "      <td>1.655</td>\n",
              "      <td>1.746</td>\n",
              "      <td>2.038</td>\n",
              "      <td>2.233</td>\n",
              "      <td>2.434</td>\n",
              "      <td>2.508</td>\n",
              "    </tr>\n",
              "    <tr>\n",
              "      <th>4</th>\n",
              "      <td>5</td>\n",
              "      <td>2006-10-11</td>\n",
              "      <td>0.486</td>\n",
              "      <td>0.692</td>\n",
              "      <td>0.868</td>\n",
              "      <td>1.043</td>\n",
              "      <td>1.208</td>\n",
              "      <td>1.326</td>\n",
              "      <td>1.444</td>\n",
              "      <td>1.558</td>\n",
              "      <td>1.649</td>\n",
              "      <td>1.739</td>\n",
              "      <td>2.028</td>\n",
              "      <td>2.224</td>\n",
              "      <td>2.429</td>\n",
              "      <td>2.504</td>\n",
              "    </tr>\n",
              "  </tbody>\n",
              "</table>\n",
              "</div>"
            ],
            "text/plain": [
              "   serial_number  time_stamp  1 year  2 year  3 year  4 year  5 year  6 year  \\\n",
              "0              1  2006-10-17   0.555   0.746   0.935   1.107   1.276   1.399   \n",
              "1              2  2006-10-16   0.553   0.746   0.938   1.117   1.284   1.407   \n",
              "2              3  2006-10-13   0.513   0.703   0.884   1.063   1.235   1.360   \n",
              "3              4  2006-10-12   0.489   0.688   0.862   1.037   1.205   1.326   \n",
              "4              5  2006-10-11   0.486   0.692   0.868   1.043   1.208   1.326   \n",
              "\n",
              "   7 year  8 year  9 year  10 year  15 year  20 year  25 year  30 year  \n",
              "0   1.512   1.623   1.711    1.793    2.084    2.263    2.446    2.518  \n",
              "1   1.523   1.630   1.710    1.792    2.076    2.250    2.439    2.511  \n",
              "2   1.479   1.592   1.677    1.763    2.052    2.238    2.434    2.508  \n",
              "3   1.446   1.563   1.655    1.746    2.038    2.233    2.434    2.508  \n",
              "4   1.444   1.558   1.649    1.739    2.028    2.224    2.429    2.504  "
            ]
          },
          "metadata": {
            "tags": []
          },
          "execution_count": 171
        }
      ]
    },
    {
      "metadata": {
        "id": "nnhSTIGaB3MV",
        "colab_type": "code",
        "outputId": "8a05ebfe-ac64-4349-a75a-65f0efb7cc54",
        "colab": {
          "base_uri": "https://localhost:8080/",
          "height": 244
        }
      },
      "cell_type": "code",
      "source": [
        "test.head()"
      ],
      "execution_count": 0,
      "outputs": [
        {
          "output_type": "execute_result",
          "data": {
            "text/html": [
              "<div>\n",
              "<style scoped>\n",
              "    .dataframe tbody tr th:only-of-type {\n",
              "        vertical-align: middle;\n",
              "    }\n",
              "\n",
              "    .dataframe tbody tr th {\n",
              "        vertical-align: top;\n",
              "    }\n",
              "\n",
              "    .dataframe thead th {\n",
              "        text-align: right;\n",
              "    }\n",
              "</style>\n",
              "<table border=\"1\" class=\"dataframe\">\n",
              "  <thead>\n",
              "    <tr style=\"text-align: right;\">\n",
              "      <th></th>\n",
              "      <th>serial_number</th>\n",
              "      <th>time_stamp</th>\n",
              "      <th>1 year</th>\n",
              "      <th>2 year</th>\n",
              "      <th>3 year</th>\n",
              "      <th>4 year</th>\n",
              "      <th>6 year</th>\n",
              "      <th>7 year</th>\n",
              "      <th>8 year</th>\n",
              "      <th>9 year</th>\n",
              "      <th>10 year</th>\n",
              "      <th>15 year</th>\n",
              "      <th>20 year</th>\n",
              "      <th>25 year</th>\n",
              "      <th>30 year</th>\n",
              "    </tr>\n",
              "  </thead>\n",
              "  <tbody>\n",
              "    <tr>\n",
              "      <th>0</th>\n",
              "      <td>1</td>\n",
              "      <td>2019-01-15</td>\n",
              "      <td>-0.160</td>\n",
              "      <td>-0.153</td>\n",
              "      <td>-0.154</td>\n",
              "      <td>-0.149</td>\n",
              "      <td>-0.146</td>\n",
              "      <td>-0.146</td>\n",
              "      <td>-0.105</td>\n",
              "      <td>-0.045</td>\n",
              "      <td>0.014</td>\n",
              "      <td>0.269</td>\n",
              "      <td>0.486</td>\n",
              "      <td>0.605</td>\n",
              "      <td>0.696</td>\n",
              "    </tr>\n",
              "    <tr>\n",
              "      <th>1</th>\n",
              "      <td>2</td>\n",
              "      <td>2019-01-11</td>\n",
              "      <td>-0.148</td>\n",
              "      <td>-0.153</td>\n",
              "      <td>-0.157</td>\n",
              "      <td>-0.155</td>\n",
              "      <td>-0.152</td>\n",
              "      <td>-0.150</td>\n",
              "      <td>-0.107</td>\n",
              "      <td>-0.046</td>\n",
              "      <td>0.014</td>\n",
              "      <td>0.269</td>\n",
              "      <td>0.488</td>\n",
              "      <td>0.605</td>\n",
              "      <td>0.696</td>\n",
              "    </tr>\n",
              "    <tr>\n",
              "      <th>2</th>\n",
              "      <td>3</td>\n",
              "      <td>2019-01-10</td>\n",
              "      <td>-0.147</td>\n",
              "      <td>-0.148</td>\n",
              "      <td>-0.154</td>\n",
              "      <td>-0.155</td>\n",
              "      <td>-0.146</td>\n",
              "      <td>-0.146</td>\n",
              "      <td>-0.102</td>\n",
              "      <td>-0.036</td>\n",
              "      <td>0.024</td>\n",
              "      <td>0.279</td>\n",
              "      <td>0.505</td>\n",
              "      <td>0.621</td>\n",
              "      <td>0.710</td>\n",
              "    </tr>\n",
              "    <tr>\n",
              "      <th>3</th>\n",
              "      <td>4</td>\n",
              "      <td>2019-01-09</td>\n",
              "      <td>-0.144</td>\n",
              "      <td>-0.147</td>\n",
              "      <td>-0.154</td>\n",
              "      <td>-0.152</td>\n",
              "      <td>-0.141</td>\n",
              "      <td>-0.136</td>\n",
              "      <td>-0.092</td>\n",
              "      <td>-0.033</td>\n",
              "      <td>0.029</td>\n",
              "      <td>0.286</td>\n",
              "      <td>0.519</td>\n",
              "      <td>0.631</td>\n",
              "      <td>0.720</td>\n",
              "    </tr>\n",
              "    <tr>\n",
              "      <th>4</th>\n",
              "      <td>5</td>\n",
              "      <td>2019-01-08</td>\n",
              "      <td>-0.146</td>\n",
              "      <td>-0.147</td>\n",
              "      <td>-0.158</td>\n",
              "      <td>-0.160</td>\n",
              "      <td>-0.152</td>\n",
              "      <td>-0.146</td>\n",
              "      <td>-0.102</td>\n",
              "      <td>-0.049</td>\n",
              "      <td>0.014</td>\n",
              "      <td>0.269</td>\n",
              "      <td>0.500</td>\n",
              "      <td>0.614</td>\n",
              "      <td>0.706</td>\n",
              "    </tr>\n",
              "  </tbody>\n",
              "</table>\n",
              "</div>"
            ],
            "text/plain": [
              "   serial_number  time_stamp  1 year  2 year  3 year  4 year  6 year  7 year  \\\n",
              "0              1  2019-01-15  -0.160  -0.153  -0.154  -0.149  -0.146  -0.146   \n",
              "1              2  2019-01-11  -0.148  -0.153  -0.157  -0.155  -0.152  -0.150   \n",
              "2              3  2019-01-10  -0.147  -0.148  -0.154  -0.155  -0.146  -0.146   \n",
              "3              4  2019-01-09  -0.144  -0.147  -0.154  -0.152  -0.141  -0.136   \n",
              "4              5  2019-01-08  -0.146  -0.147  -0.158  -0.160  -0.152  -0.146   \n",
              "\n",
              "   8 year  9 year  10 year  15 year  20 year  25 year  30 year  \n",
              "0  -0.105  -0.045    0.014    0.269    0.486    0.605    0.696  \n",
              "1  -0.107  -0.046    0.014    0.269    0.488    0.605    0.696  \n",
              "2  -0.102  -0.036    0.024    0.279    0.505    0.621    0.710  \n",
              "3  -0.092  -0.033    0.029    0.286    0.519    0.631    0.720  \n",
              "4  -0.102  -0.049    0.014    0.269    0.500    0.614    0.706  "
            ]
          },
          "metadata": {
            "tags": []
          },
          "execution_count": 172
        }
      ]
    },
    {
      "metadata": {
        "id": "z5QM4_LPB9Sv",
        "colab_type": "code",
        "outputId": "35f767c6-fd98-4c31-d75c-46e5a4113f6f",
        "colab": {
          "base_uri": "https://localhost:8080/",
          "height": 244
        }
      },
      "cell_type": "code",
      "source": [
        "train = train[::-1] \n",
        "test = test[::-1]\n",
        "train.head()"
      ],
      "execution_count": 0,
      "outputs": [
        {
          "output_type": "execute_result",
          "data": {
            "text/html": [
              "<div>\n",
              "<style scoped>\n",
              "    .dataframe tbody tr th:only-of-type {\n",
              "        vertical-align: middle;\n",
              "    }\n",
              "\n",
              "    .dataframe tbody tr th {\n",
              "        vertical-align: top;\n",
              "    }\n",
              "\n",
              "    .dataframe thead th {\n",
              "        text-align: right;\n",
              "    }\n",
              "</style>\n",
              "<table border=\"1\" class=\"dataframe\">\n",
              "  <thead>\n",
              "    <tr style=\"text-align: right;\">\n",
              "      <th></th>\n",
              "      <th>serial_number</th>\n",
              "      <th>time_stamp</th>\n",
              "      <th>1 year</th>\n",
              "      <th>2 year</th>\n",
              "      <th>3 year</th>\n",
              "      <th>4 year</th>\n",
              "      <th>5 year</th>\n",
              "      <th>6 year</th>\n",
              "      <th>7 year</th>\n",
              "      <th>8 year</th>\n",
              "      <th>9 year</th>\n",
              "      <th>10 year</th>\n",
              "      <th>15 year</th>\n",
              "      <th>20 year</th>\n",
              "      <th>25 year</th>\n",
              "      <th>30 year</th>\n",
              "    </tr>\n",
              "  </thead>\n",
              "  <tbody>\n",
              "    <tr>\n",
              "      <th>5999</th>\n",
              "      <td>6000</td>\n",
              "      <td>1983-04-02</td>\n",
              "      <td>6.937</td>\n",
              "      <td>6.958</td>\n",
              "      <td>7.053</td>\n",
              "      <td>7.365</td>\n",
              "      <td>7.744</td>\n",
              "      <td>7.900</td>\n",
              "      <td>7.365</td>\n",
              "      <td>7.721</td>\n",
              "      <td>7.863</td>\n",
              "      <td>NaN</td>\n",
              "      <td>NaN</td>\n",
              "      <td>NaN</td>\n",
              "      <td>NaN</td>\n",
              "      <td>NaN</td>\n",
              "    </tr>\n",
              "    <tr>\n",
              "      <th>5998</th>\n",
              "      <td>5999</td>\n",
              "      <td>1983-04-04</td>\n",
              "      <td>6.933</td>\n",
              "      <td>6.961</td>\n",
              "      <td>7.053</td>\n",
              "      <td>7.375</td>\n",
              "      <td>7.747</td>\n",
              "      <td>7.889</td>\n",
              "      <td>7.362</td>\n",
              "      <td>7.716</td>\n",
              "      <td>7.858</td>\n",
              "      <td>NaN</td>\n",
              "      <td>NaN</td>\n",
              "      <td>NaN</td>\n",
              "      <td>NaN</td>\n",
              "      <td>NaN</td>\n",
              "    </tr>\n",
              "    <tr>\n",
              "      <th>5997</th>\n",
              "      <td>5998</td>\n",
              "      <td>1983-04-05</td>\n",
              "      <td>6.942</td>\n",
              "      <td>6.960</td>\n",
              "      <td>7.062</td>\n",
              "      <td>7.394</td>\n",
              "      <td>7.756</td>\n",
              "      <td>7.906</td>\n",
              "      <td>7.364</td>\n",
              "      <td>7.732</td>\n",
              "      <td>7.877</td>\n",
              "      <td>NaN</td>\n",
              "      <td>NaN</td>\n",
              "      <td>NaN</td>\n",
              "      <td>NaN</td>\n",
              "      <td>NaN</td>\n",
              "    </tr>\n",
              "    <tr>\n",
              "      <th>5996</th>\n",
              "      <td>5997</td>\n",
              "      <td>1983-04-06</td>\n",
              "      <td>6.940</td>\n",
              "      <td>6.959</td>\n",
              "      <td>7.063</td>\n",
              "      <td>7.379</td>\n",
              "      <td>7.749</td>\n",
              "      <td>7.898</td>\n",
              "      <td>7.347</td>\n",
              "      <td>7.702</td>\n",
              "      <td>7.836</td>\n",
              "      <td>NaN</td>\n",
              "      <td>NaN</td>\n",
              "      <td>NaN</td>\n",
              "      <td>NaN</td>\n",
              "      <td>NaN</td>\n",
              "    </tr>\n",
              "    <tr>\n",
              "      <th>5995</th>\n",
              "      <td>5996</td>\n",
              "      <td>1983-04-07</td>\n",
              "      <td>6.889</td>\n",
              "      <td>6.929</td>\n",
              "      <td>7.055</td>\n",
              "      <td>7.361</td>\n",
              "      <td>7.732</td>\n",
              "      <td>7.888</td>\n",
              "      <td>7.337</td>\n",
              "      <td>7.695</td>\n",
              "      <td>7.828</td>\n",
              "      <td>NaN</td>\n",
              "      <td>NaN</td>\n",
              "      <td>NaN</td>\n",
              "      <td>NaN</td>\n",
              "      <td>NaN</td>\n",
              "    </tr>\n",
              "  </tbody>\n",
              "</table>\n",
              "</div>"
            ],
            "text/plain": [
              "      serial_number  time_stamp  1 year  2 year  3 year  4 year  5 year  \\\n",
              "5999           6000  1983-04-02   6.937   6.958   7.053   7.365   7.744   \n",
              "5998           5999  1983-04-04   6.933   6.961   7.053   7.375   7.747   \n",
              "5997           5998  1983-04-05   6.942   6.960   7.062   7.394   7.756   \n",
              "5996           5997  1983-04-06   6.940   6.959   7.063   7.379   7.749   \n",
              "5995           5996  1983-04-07   6.889   6.929   7.055   7.361   7.732   \n",
              "\n",
              "      6 year  7 year  8 year  9 year  10 year  15 year  20 year  25 year  \\\n",
              "5999   7.900   7.365   7.721   7.863      NaN      NaN      NaN      NaN   \n",
              "5998   7.889   7.362   7.716   7.858      NaN      NaN      NaN      NaN   \n",
              "5997   7.906   7.364   7.732   7.877      NaN      NaN      NaN      NaN   \n",
              "5996   7.898   7.347   7.702   7.836      NaN      NaN      NaN      NaN   \n",
              "5995   7.888   7.337   7.695   7.828      NaN      NaN      NaN      NaN   \n",
              "\n",
              "      30 year  \n",
              "5999      NaN  \n",
              "5998      NaN  \n",
              "5997      NaN  \n",
              "5996      NaN  \n",
              "5995      NaN  "
            ]
          },
          "metadata": {
            "tags": []
          },
          "execution_count": 173
        }
      ]
    },
    {
      "metadata": {
        "id": "CK5ui7r8CARi",
        "colab_type": "code",
        "outputId": "f7959e7d-4282-4647-ad05-bb78fd1dc371",
        "colab": {
          "base_uri": "https://localhost:8080/",
          "height": 275
        }
      },
      "cell_type": "code",
      "source": [
        "train = train.set_index('time_stamp')\n",
        "train.head()"
      ],
      "execution_count": 0,
      "outputs": [
        {
          "output_type": "execute_result",
          "data": {
            "text/html": [
              "<div>\n",
              "<style scoped>\n",
              "    .dataframe tbody tr th:only-of-type {\n",
              "        vertical-align: middle;\n",
              "    }\n",
              "\n",
              "    .dataframe tbody tr th {\n",
              "        vertical-align: top;\n",
              "    }\n",
              "\n",
              "    .dataframe thead th {\n",
              "        text-align: right;\n",
              "    }\n",
              "</style>\n",
              "<table border=\"1\" class=\"dataframe\">\n",
              "  <thead>\n",
              "    <tr style=\"text-align: right;\">\n",
              "      <th></th>\n",
              "      <th>serial_number</th>\n",
              "      <th>1 year</th>\n",
              "      <th>2 year</th>\n",
              "      <th>3 year</th>\n",
              "      <th>4 year</th>\n",
              "      <th>5 year</th>\n",
              "      <th>6 year</th>\n",
              "      <th>7 year</th>\n",
              "      <th>8 year</th>\n",
              "      <th>9 year</th>\n",
              "      <th>10 year</th>\n",
              "      <th>15 year</th>\n",
              "      <th>20 year</th>\n",
              "      <th>25 year</th>\n",
              "      <th>30 year</th>\n",
              "    </tr>\n",
              "    <tr>\n",
              "      <th>time_stamp</th>\n",
              "      <th></th>\n",
              "      <th></th>\n",
              "      <th></th>\n",
              "      <th></th>\n",
              "      <th></th>\n",
              "      <th></th>\n",
              "      <th></th>\n",
              "      <th></th>\n",
              "      <th></th>\n",
              "      <th></th>\n",
              "      <th></th>\n",
              "      <th></th>\n",
              "      <th></th>\n",
              "      <th></th>\n",
              "      <th></th>\n",
              "    </tr>\n",
              "  </thead>\n",
              "  <tbody>\n",
              "    <tr>\n",
              "      <th>1983-04-02</th>\n",
              "      <td>6000</td>\n",
              "      <td>6.937</td>\n",
              "      <td>6.958</td>\n",
              "      <td>7.053</td>\n",
              "      <td>7.365</td>\n",
              "      <td>7.744</td>\n",
              "      <td>7.900</td>\n",
              "      <td>7.365</td>\n",
              "      <td>7.721</td>\n",
              "      <td>7.863</td>\n",
              "      <td>NaN</td>\n",
              "      <td>NaN</td>\n",
              "      <td>NaN</td>\n",
              "      <td>NaN</td>\n",
              "      <td>NaN</td>\n",
              "    </tr>\n",
              "    <tr>\n",
              "      <th>1983-04-04</th>\n",
              "      <td>5999</td>\n",
              "      <td>6.933</td>\n",
              "      <td>6.961</td>\n",
              "      <td>7.053</td>\n",
              "      <td>7.375</td>\n",
              "      <td>7.747</td>\n",
              "      <td>7.889</td>\n",
              "      <td>7.362</td>\n",
              "      <td>7.716</td>\n",
              "      <td>7.858</td>\n",
              "      <td>NaN</td>\n",
              "      <td>NaN</td>\n",
              "      <td>NaN</td>\n",
              "      <td>NaN</td>\n",
              "      <td>NaN</td>\n",
              "    </tr>\n",
              "    <tr>\n",
              "      <th>1983-04-05</th>\n",
              "      <td>5998</td>\n",
              "      <td>6.942</td>\n",
              "      <td>6.960</td>\n",
              "      <td>7.062</td>\n",
              "      <td>7.394</td>\n",
              "      <td>7.756</td>\n",
              "      <td>7.906</td>\n",
              "      <td>7.364</td>\n",
              "      <td>7.732</td>\n",
              "      <td>7.877</td>\n",
              "      <td>NaN</td>\n",
              "      <td>NaN</td>\n",
              "      <td>NaN</td>\n",
              "      <td>NaN</td>\n",
              "      <td>NaN</td>\n",
              "    </tr>\n",
              "    <tr>\n",
              "      <th>1983-04-06</th>\n",
              "      <td>5997</td>\n",
              "      <td>6.940</td>\n",
              "      <td>6.959</td>\n",
              "      <td>7.063</td>\n",
              "      <td>7.379</td>\n",
              "      <td>7.749</td>\n",
              "      <td>7.898</td>\n",
              "      <td>7.347</td>\n",
              "      <td>7.702</td>\n",
              "      <td>7.836</td>\n",
              "      <td>NaN</td>\n",
              "      <td>NaN</td>\n",
              "      <td>NaN</td>\n",
              "      <td>NaN</td>\n",
              "      <td>NaN</td>\n",
              "    </tr>\n",
              "    <tr>\n",
              "      <th>1983-04-07</th>\n",
              "      <td>5996</td>\n",
              "      <td>6.889</td>\n",
              "      <td>6.929</td>\n",
              "      <td>7.055</td>\n",
              "      <td>7.361</td>\n",
              "      <td>7.732</td>\n",
              "      <td>7.888</td>\n",
              "      <td>7.337</td>\n",
              "      <td>7.695</td>\n",
              "      <td>7.828</td>\n",
              "      <td>NaN</td>\n",
              "      <td>NaN</td>\n",
              "      <td>NaN</td>\n",
              "      <td>NaN</td>\n",
              "      <td>NaN</td>\n",
              "    </tr>\n",
              "  </tbody>\n",
              "</table>\n",
              "</div>"
            ],
            "text/plain": [
              "            serial_number  1 year  2 year  3 year  4 year  5 year  6 year  \\\n",
              "time_stamp                                                                  \n",
              "1983-04-02           6000   6.937   6.958   7.053   7.365   7.744   7.900   \n",
              "1983-04-04           5999   6.933   6.961   7.053   7.375   7.747   7.889   \n",
              "1983-04-05           5998   6.942   6.960   7.062   7.394   7.756   7.906   \n",
              "1983-04-06           5997   6.940   6.959   7.063   7.379   7.749   7.898   \n",
              "1983-04-07           5996   6.889   6.929   7.055   7.361   7.732   7.888   \n",
              "\n",
              "            7 year  8 year  9 year  10 year  15 year  20 year  25 year  \\\n",
              "time_stamp                                                               \n",
              "1983-04-02   7.365   7.721   7.863      NaN      NaN      NaN      NaN   \n",
              "1983-04-04   7.362   7.716   7.858      NaN      NaN      NaN      NaN   \n",
              "1983-04-05   7.364   7.732   7.877      NaN      NaN      NaN      NaN   \n",
              "1983-04-06   7.347   7.702   7.836      NaN      NaN      NaN      NaN   \n",
              "1983-04-07   7.337   7.695   7.828      NaN      NaN      NaN      NaN   \n",
              "\n",
              "            30 year  \n",
              "time_stamp           \n",
              "1983-04-02      NaN  \n",
              "1983-04-04      NaN  \n",
              "1983-04-05      NaN  \n",
              "1983-04-06      NaN  \n",
              "1983-04-07      NaN  "
            ]
          },
          "metadata": {
            "tags": []
          },
          "execution_count": 174
        }
      ]
    },
    {
      "metadata": {
        "id": "KjLYMHtBHSL2",
        "colab_type": "code",
        "outputId": "9814fbfc-afb9-4f07-f371-63f624e77295",
        "colab": {
          "base_uri": "https://localhost:8080/",
          "height": 275
        }
      },
      "cell_type": "code",
      "source": [
        "test = test.set_index('time_stamp')\n",
        "test.head()"
      ],
      "execution_count": 0,
      "outputs": [
        {
          "output_type": "execute_result",
          "data": {
            "text/html": [
              "<div>\n",
              "<style scoped>\n",
              "    .dataframe tbody tr th:only-of-type {\n",
              "        vertical-align: middle;\n",
              "    }\n",
              "\n",
              "    .dataframe tbody tr th {\n",
              "        vertical-align: top;\n",
              "    }\n",
              "\n",
              "    .dataframe thead th {\n",
              "        text-align: right;\n",
              "    }\n",
              "</style>\n",
              "<table border=\"1\" class=\"dataframe\">\n",
              "  <thead>\n",
              "    <tr style=\"text-align: right;\">\n",
              "      <th></th>\n",
              "      <th>serial_number</th>\n",
              "      <th>1 year</th>\n",
              "      <th>2 year</th>\n",
              "      <th>3 year</th>\n",
              "      <th>4 year</th>\n",
              "      <th>6 year</th>\n",
              "      <th>7 year</th>\n",
              "      <th>8 year</th>\n",
              "      <th>9 year</th>\n",
              "      <th>10 year</th>\n",
              "      <th>15 year</th>\n",
              "      <th>20 year</th>\n",
              "      <th>25 year</th>\n",
              "      <th>30 year</th>\n",
              "    </tr>\n",
              "    <tr>\n",
              "      <th>time_stamp</th>\n",
              "      <th></th>\n",
              "      <th></th>\n",
              "      <th></th>\n",
              "      <th></th>\n",
              "      <th></th>\n",
              "      <th></th>\n",
              "      <th></th>\n",
              "      <th></th>\n",
              "      <th></th>\n",
              "      <th></th>\n",
              "      <th></th>\n",
              "      <th></th>\n",
              "      <th></th>\n",
              "      <th></th>\n",
              "    </tr>\n",
              "  </thead>\n",
              "  <tbody>\n",
              "    <tr>\n",
              "      <th>2006-10-17</th>\n",
              "      <td>3000</td>\n",
              "      <td>0.555</td>\n",
              "      <td>0.746</td>\n",
              "      <td>0.935</td>\n",
              "      <td>1.107</td>\n",
              "      <td>1.399</td>\n",
              "      <td>1.512</td>\n",
              "      <td>1.623</td>\n",
              "      <td>1.711</td>\n",
              "      <td>1.793</td>\n",
              "      <td>2.084</td>\n",
              "      <td>2.263</td>\n",
              "      <td>2.446</td>\n",
              "      <td>2.518</td>\n",
              "    </tr>\n",
              "    <tr>\n",
              "      <th>2006-10-18</th>\n",
              "      <td>2999</td>\n",
              "      <td>0.568</td>\n",
              "      <td>0.772</td>\n",
              "      <td>0.960</td>\n",
              "      <td>1.128</td>\n",
              "      <td>1.420</td>\n",
              "      <td>1.526</td>\n",
              "      <td>1.633</td>\n",
              "      <td>1.716</td>\n",
              "      <td>1.798</td>\n",
              "      <td>2.089</td>\n",
              "      <td>2.263</td>\n",
              "      <td>2.446</td>\n",
              "      <td>2.514</td>\n",
              "    </tr>\n",
              "    <tr>\n",
              "      <th>2006-10-19</th>\n",
              "      <td>2998</td>\n",
              "      <td>0.591</td>\n",
              "      <td>0.803</td>\n",
              "      <td>0.989</td>\n",
              "      <td>1.152</td>\n",
              "      <td>1.429</td>\n",
              "      <td>1.531</td>\n",
              "      <td>1.638</td>\n",
              "      <td>1.720</td>\n",
              "      <td>1.799</td>\n",
              "      <td>2.086</td>\n",
              "      <td>2.258</td>\n",
              "      <td>2.442</td>\n",
              "      <td>2.505</td>\n",
              "    </tr>\n",
              "    <tr>\n",
              "      <th>2006-10-20</th>\n",
              "      <td>2997</td>\n",
              "      <td>0.592</td>\n",
              "      <td>0.783</td>\n",
              "      <td>0.976</td>\n",
              "      <td>1.137</td>\n",
              "      <td>1.422</td>\n",
              "      <td>1.525</td>\n",
              "      <td>1.633</td>\n",
              "      <td>1.720</td>\n",
              "      <td>1.798</td>\n",
              "      <td>2.082</td>\n",
              "      <td>2.254</td>\n",
              "      <td>2.439</td>\n",
              "      <td>2.500</td>\n",
              "    </tr>\n",
              "    <tr>\n",
              "      <th>2006-10-23</th>\n",
              "      <td>2996</td>\n",
              "      <td>0.600</td>\n",
              "      <td>0.800</td>\n",
              "      <td>0.997</td>\n",
              "      <td>1.168</td>\n",
              "      <td>1.456</td>\n",
              "      <td>1.558</td>\n",
              "      <td>1.667</td>\n",
              "      <td>1.754</td>\n",
              "      <td>1.831</td>\n",
              "      <td>2.109</td>\n",
              "      <td>2.280</td>\n",
              "      <td>2.463</td>\n",
              "      <td>2.525</td>\n",
              "    </tr>\n",
              "  </tbody>\n",
              "</table>\n",
              "</div>"
            ],
            "text/plain": [
              "            serial_number  1 year  2 year  3 year  4 year  6 year  7 year  \\\n",
              "time_stamp                                                                  \n",
              "2006-10-17           3000   0.555   0.746   0.935   1.107   1.399   1.512   \n",
              "2006-10-18           2999   0.568   0.772   0.960   1.128   1.420   1.526   \n",
              "2006-10-19           2998   0.591   0.803   0.989   1.152   1.429   1.531   \n",
              "2006-10-20           2997   0.592   0.783   0.976   1.137   1.422   1.525   \n",
              "2006-10-23           2996   0.600   0.800   0.997   1.168   1.456   1.558   \n",
              "\n",
              "            8 year  9 year  10 year  15 year  20 year  25 year  30 year  \n",
              "time_stamp                                                               \n",
              "2006-10-17   1.623   1.711    1.793    2.084    2.263    2.446    2.518  \n",
              "2006-10-18   1.633   1.716    1.798    2.089    2.263    2.446    2.514  \n",
              "2006-10-19   1.638   1.720    1.799    2.086    2.258    2.442    2.505  \n",
              "2006-10-20   1.633   1.720    1.798    2.082    2.254    2.439    2.500  \n",
              "2006-10-23   1.667   1.754    1.831    2.109    2.280    2.463    2.525  "
            ]
          },
          "metadata": {
            "tags": []
          },
          "execution_count": 175
        }
      ]
    },
    {
      "metadata": {
        "id": "aJ4OCnRyCN4w",
        "colab_type": "code",
        "outputId": "e0d19a9b-a8ce-43d1-efef-77aa2b01b1c9",
        "colab": {
          "base_uri": "https://localhost:8080/",
          "height": 295
        }
      },
      "cell_type": "code",
      "source": [
        "train.isnull().any()"
      ],
      "execution_count": 0,
      "outputs": [
        {
          "output_type": "execute_result",
          "data": {
            "text/plain": [
              "serial_number    False\n",
              "1 year           False\n",
              "2 year           False\n",
              "3 year           False\n",
              "4 year           False\n",
              "5 year           False\n",
              "6 year           False\n",
              "7 year           False\n",
              "8 year           False\n",
              "9 year           False\n",
              "10 year           True\n",
              "15 year           True\n",
              "20 year           True\n",
              "25 year           True\n",
              "30 year           True\n",
              "dtype: bool"
            ]
          },
          "metadata": {
            "tags": []
          },
          "execution_count": 176
        }
      ]
    },
    {
      "metadata": {
        "id": "8x5w4zE4HZaD",
        "colab_type": "code",
        "outputId": "bc5cd755-bd00-496f-f246-7f02b8c467e9",
        "colab": {
          "base_uri": "https://localhost:8080/",
          "height": 278
        }
      },
      "cell_type": "code",
      "source": [
        "test.isnull().any()"
      ],
      "execution_count": 0,
      "outputs": [
        {
          "output_type": "execute_result",
          "data": {
            "text/plain": [
              "serial_number    False\n",
              "1 year           False\n",
              "2 year           False\n",
              "3 year           False\n",
              "4 year           False\n",
              "6 year           False\n",
              "7 year           False\n",
              "8 year           False\n",
              "9 year           False\n",
              "10 year          False\n",
              "15 year          False\n",
              "20 year          False\n",
              "25 year          False\n",
              "30 year          False\n",
              "dtype: bool"
            ]
          },
          "metadata": {
            "tags": []
          },
          "execution_count": 177
        }
      ]
    },
    {
      "metadata": {
        "id": "oKAFilk0CZvz",
        "colab_type": "code",
        "outputId": "f2a245b2-90f5-42a2-9eb0-b916d5e5f8fe",
        "colab": {
          "base_uri": "https://localhost:8080/",
          "height": 433
        }
      },
      "cell_type": "code",
      "source": [
        "plt.figure(num=None, figsize=(14, 5))\n",
        "plt.subplot(1,2,1)\n",
        "ax = train['5 year'].plot(style=['-'])\n",
        "ax.lines[0].set_alpha(0.3)\n",
        "ax.set_ylim(np.min(train['5 year']) - 10, np.max(train['5 year']) + 10)\n",
        "plt.xticks(rotation=90)\n",
        "plt.title(\"No scaling\")\n",
        "ax.legend()\n",
        "plt.subplot(1,2,2)\n",
        "ax = train['5 year'].plot(style=['-'])\n",
        "ax.lines[0].set_alpha(0.3)\n",
        "ax.set_yscale('log')\n",
        "ax.set_ylim(np.min(train['5 year']) - 10, np.max(train['5 year']) + 10)\n",
        "plt.xticks(rotation=90)\n",
        "plt.title(\"logarithmic scale\")\n",
        "ax.legend()\n",
        "\n"
      ],
      "execution_count": 0,
      "outputs": [
        {
          "output_type": "stream",
          "text": [
            "/usr/local/lib/python3.6/dist-packages/ipykernel_launcher.py:13: UserWarning: Attempted to set non-positive bottom ylim on a log-scaled axis.\n",
            "Invalid limit will be ignored.\n",
            "  del sys.path[0]\n"
          ],
          "name": "stderr"
        },
        {
          "output_type": "execute_result",
          "data": {
            "text/plain": [
              "<matplotlib.legend.Legend at 0x7fe13e812978>"
            ]
          },
          "metadata": {
            "tags": []
          },
          "execution_count": 72
        },
        {
          "output_type": "display_data",
          "data": {
            "image/png": "[encoded data removed]",
            "text/plain": [
              "<Figure size 1008x360 with 2 Axes>"
            ]
          },
          "metadata": {
            "tags": []
          }
        }
      ]
    },
    {
      "metadata": {
        "id": "sX9MJLU-oI-C",
        "colab_type": "code",
        "colab": {}
      },
      "cell_type": "code",
      "source": [
        "train_data=train[['4 year', '5 year', '6 year', '7 year', '8 year', '9 year', '4 year', '5 year', '6 year', '7 year', '8 year', '9 year']]\n",
        "#test_data=test[['4 year', '5 year', '6 year', '7 year', '8 year', '9 year']]"
      ],
      "execution_count": 0,
      "outputs": []
    },
    {
      "metadata": {
        "id": "fnbnD2WLIy9k",
        "colab_type": "code",
        "outputId": "1906af66-8d00-4677-dfdc-874f2218d2f8",
        "colab": {
          "base_uri": "https://localhost:8080/",
          "height": 89
        }
      },
      "cell_type": "code",
      "source": [
        "\n",
        "from statsmodels.tsa.vector_ar.var_model import VAR\n",
        "\n",
        "model = VAR(endog=train_data)\n",
        "model_fit = model.fit()\n",
        "\n",
        "prediction = model_fit.forecast(model_fit.y, steps=len(test))"
      ],
      "execution_count": 0,
      "outputs": [
        {
          "output_type": "stream",
          "text": [
            "/usr/local/lib/python3.6/dist-packages/statsmodels/tsa/vector_ar/var_model.py:461: FutureWarning: `rcond` parameter will change to the default of machine precision times ``max(M, N)`` where M and N are the input matrix dimensions.\n",
            "To use the future default and silence this warning we advise to pass `rcond=None`, to keep using the old, explicitly pass `rcond=-1`.\n",
            "  params = np.linalg.lstsq(z, y_sample)[0]\n"
          ],
          "name": "stderr"
        }
      ]
    },
    {
      "metadata": {
        "id": "ogPadnCLJZNz",
        "colab_type": "code",
        "outputId": "06fe3dcc-4e1e-4f8b-80b4-33781114af9d",
        "colab": {
          "base_uri": "https://localhost:8080/",
          "height": 243
        }
      },
      "cell_type": "code",
      "source": [
        "prediction[::-1]"
      ],
      "execution_count": 0,
      "outputs": [
        {
          "output_type": "execute_result",
          "data": {
            "text/plain": [
              "array([[-0.2947806 , -0.04530661,  0.18073934,  0.38245633,  0.59437082,\n",
              "         0.73825171],\n",
              "       [-0.29441204, -0.04494746,  0.18109176,  0.38280119,  0.5947053 ,\n",
              "         0.73857908],\n",
              "       [-0.29404345, -0.04458828,  0.18144421,  0.38314608,  0.59503982,\n",
              "         0.73890647],\n",
              "       ...,\n",
              "       [ 1.10423851,  1.27344996,  1.39754923,  1.51227207,  1.62410791,\n",
              "         1.71249521],\n",
              "       [ 1.10515776,  1.27429804,  1.39803087,  1.51218463,  1.62374281,\n",
              "         1.7120027 ],\n",
              "       [ 1.10607825,  1.27514806,  1.39851445,  1.51209395,  1.62337352,\n",
              "         1.71150432]])"
            ]
          },
          "metadata": {
            "tags": []
          },
          "execution_count": 59
        }
      ]
    },
    {
      "metadata": {
        "id": "ouARW36TY6kv",
        "colab_type": "code",
        "outputId": "254f03bb-2eeb-4522-9d6a-3fc5ac266978",
        "colab": {
          "base_uri": "https://localhost:8080/",
          "height": 34
        }
      },
      "cell_type": "code",
      "source": [
        "prediction.shape"
      ],
      "execution_count": 0,
      "outputs": [
        {
          "output_type": "execute_result",
          "data": {
            "text/plain": [
              "(3000,)"
            ]
          },
          "metadata": {
            "tags": []
          },
          "execution_count": 43
        }
      ]
    },
    {
      "metadata": {
        "id": "M6h1iI4EaMMB",
        "colab_type": "code",
        "outputId": "03345f7d-3c81-42a0-9783-0e21d3e2fea3",
        "colab": {
          "base_uri": "https://localhost:8080/",
          "height": 206
        }
      },
      "cell_type": "code",
      "source": [
        "submit=pd.read_csv('sample_data/sample_submission.csv')\n",
        "submit['5 year']=prediction[::-1]\n",
        "submit.head()"
      ],
      "execution_count": 0,
      "outputs": [
        {
          "output_type": "execute_result",
          "data": {
            "text/html": [
              "<div>\n",
              "<style scoped>\n",
              "    .dataframe tbody tr th:only-of-type {\n",
              "        vertical-align: middle;\n",
              "    }\n",
              "\n",
              "    .dataframe tbody tr th {\n",
              "        vertical-align: top;\n",
              "    }\n",
              "\n",
              "    .dataframe thead th {\n",
              "        text-align: right;\n",
              "    }\n",
              "</style>\n",
              "<table border=\"1\" class=\"dataframe\">\n",
              "  <thead>\n",
              "    <tr style=\"text-align: right;\">\n",
              "      <th></th>\n",
              "      <th>serial_number</th>\n",
              "      <th>5 year</th>\n",
              "    </tr>\n",
              "  </thead>\n",
              "  <tbody>\n",
              "    <tr>\n",
              "      <th>0</th>\n",
              "      <td>1</td>\n",
              "      <td>0.0</td>\n",
              "    </tr>\n",
              "    <tr>\n",
              "      <th>1</th>\n",
              "      <td>2</td>\n",
              "      <td>0.0</td>\n",
              "    </tr>\n",
              "    <tr>\n",
              "      <th>2</th>\n",
              "      <td>3</td>\n",
              "      <td>0.0</td>\n",
              "    </tr>\n",
              "    <tr>\n",
              "      <th>3</th>\n",
              "      <td>4</td>\n",
              "      <td>0.0</td>\n",
              "    </tr>\n",
              "    <tr>\n",
              "      <th>4</th>\n",
              "      <td>5</td>\n",
              "      <td>0.0</td>\n",
              "    </tr>\n",
              "  </tbody>\n",
              "</table>\n",
              "</div>"
            ],
            "text/plain": [
              "   serial_number  5 year\n",
              "0              1     0.0\n",
              "1              2     0.0\n",
              "2              3     0.0\n",
              "3              4     0.0\n",
              "4              5     0.0"
            ]
          },
          "metadata": {
            "tags": []
          },
          "execution_count": 52
        }
      ]
    },
    {
      "metadata": {
        "id": "lCVwcDlWaRep",
        "colab_type": "code",
        "outputId": "598bc206-406f-49ca-e496-56a10f5f6aa2",
        "colab": {
          "base_uri": "https://localhost:8080/",
          "height": 206
        }
      },
      "cell_type": "code",
      "source": [
        "submit.to_csv('submit.csv',index=False)\n",
        "submit.tail()"
      ],
      "execution_count": 0,
      "outputs": [
        {
          "output_type": "execute_result",
          "data": {
            "text/html": [
              "<div>\n",
              "<style scoped>\n",
              "    .dataframe tbody tr th:only-of-type {\n",
              "        vertical-align: middle;\n",
              "    }\n",
              "\n",
              "    .dataframe tbody tr th {\n",
              "        vertical-align: top;\n",
              "    }\n",
              "\n",
              "    .dataframe thead th {\n",
              "        text-align: right;\n",
              "    }\n",
              "</style>\n",
              "<table border=\"1\" class=\"dataframe\">\n",
              "  <thead>\n",
              "    <tr style=\"text-align: right;\">\n",
              "      <th></th>\n",
              "      <th>serial_number</th>\n",
              "      <th>5 year</th>\n",
              "    </tr>\n",
              "  </thead>\n",
              "  <tbody>\n",
              "    <tr>\n",
              "      <th>2995</th>\n",
              "      <td>2996</td>\n",
              "      <td>1.271760</td>\n",
              "    </tr>\n",
              "    <tr>\n",
              "      <th>2996</th>\n",
              "      <td>2997</td>\n",
              "      <td>1.272604</td>\n",
              "    </tr>\n",
              "    <tr>\n",
              "      <th>2997</th>\n",
              "      <td>2998</td>\n",
              "      <td>1.273450</td>\n",
              "    </tr>\n",
              "    <tr>\n",
              "      <th>2998</th>\n",
              "      <td>2999</td>\n",
              "      <td>1.274298</td>\n",
              "    </tr>\n",
              "    <tr>\n",
              "      <th>2999</th>\n",
              "      <td>3000</td>\n",
              "      <td>1.275148</td>\n",
              "    </tr>\n",
              "  </tbody>\n",
              "</table>\n",
              "</div>"
            ],
            "text/plain": [
              "      serial_number    5 year\n",
              "2995           2996  1.271760\n",
              "2996           2997  1.272604\n",
              "2997           2998  1.273450\n",
              "2998           2999  1.274298\n",
              "2999           3000  1.275148"
            ]
          },
          "metadata": {
            "tags": []
          },
          "execution_count": 55
        }
      ]
    },
    {
      "metadata": {
        "id": "Z6AEiB7raZal",
        "colab_type": "code",
        "outputId": "97f50c6b-6664-497e-9172-284ee572aa37",
        "colab": {
          "base_uri": "https://localhost:8080/",
          "height": 141
        }
      },
      "cell_type": "code",
      "source": [
        "X_train=train[['1 year', '2 year', '3 year', '4 year', '6 year', '7 year', '8 year', '9 year']]\n",
        "Y_train=train['5 year']\n",
        "X_test=test[['1 year', '2 year', '3 year', '4 year', '6 year', '7 year', '8 year', '9 year']]\n",
        "\n",
        "\n",
        "\n",
        "from sklearn.linear_model import LassoCV, RidgeCV\n",
        "\n",
        "xgb = LassoCV()\n",
        "xgb.fit(X_train, Y_train)\n",
        "\n"
      ],
      "execution_count": 0,
      "outputs": [
        {
          "output_type": "stream",
          "text": [
            "/usr/local/lib/python3.6/dist-packages/sklearn/model_selection/_split.py:2053: FutureWarning: You should specify a value for 'cv' instead of relying on the default value. The default value will change from 3 to 5 in version 0.22.\n",
            "  warnings.warn(CV_WARNING, FutureWarning)\n"
          ],
          "name": "stderr"
        },
        {
          "output_type": "execute_result",
          "data": {
            "text/plain": [
              "LassoCV(alphas=None, copy_X=True, cv='warn', eps=0.001, fit_intercept=True,\n",
              "    max_iter=1000, n_alphas=100, n_jobs=None, normalize=False,\n",
              "    positive=False, precompute='auto', random_state=None,\n",
              "    selection='cyclic', tol=0.0001, verbose=False)"
            ]
          },
          "metadata": {
            "tags": []
          },
          "execution_count": 179
        }
      ]
    },
    {
      "metadata": {
        "id": "NzFMAp0tdAal",
        "colab_type": "code",
        "colab": {}
      },
      "cell_type": "code",
      "source": [
        "preds = xgb.predict(X_test)"
      ],
      "execution_count": 0,
      "outputs": []
    },
    {
      "metadata": {
        "id": "5YIOnPcFdiry",
        "colab_type": "code",
        "outputId": "dfdfd214-d456-4ddf-8cd2-0ea6a18f3c5d",
        "colab": {
          "base_uri": "https://localhost:8080/",
          "height": 34
        }
      },
      "cell_type": "code",
      "source": [
        "preds[-1]"
      ],
      "execution_count": 0,
      "outputs": [
        {
          "output_type": "execute_result",
          "data": {
            "text/plain": [
              "-0.14263599664389515"
            ]
          },
          "metadata": {
            "tags": []
          },
          "execution_count": 181
        }
      ]
    },
    {
      "metadata": {
        "id": "RqDsyLUmdkk_",
        "colab_type": "code",
        "colab": {}
      },
      "cell_type": "code",
      "source": [
        "submit=pd.read_csv('sample_data/sample_submission.csv')\n",
        "submit['5 year']=preds[::-1]\n",
        "submit.to_csv('submit.csv',index=False)"
      ],
      "execution_count": 0,
      "outputs": []
    },
    {
      "metadata": {
        "id": "FCIV3PRieU4N",
        "colab_type": "code",
        "outputId": "66d5646c-314e-4b3e-bf50-953dcab09092",
        "colab": {
          "base_uri": "https://localhost:8080/",
          "height": 830
        }
      },
      "cell_type": "code",
      "source": [
        "import statsmodels.api as sm\n",
        "mod = sm.tsa.statespace.SARIMAX(train['5 year'],\n",
        "                                order=(1, 1, 1),\n",
        "                                seasonal_order=(1, 1, 0, 12),\n",
        "                                enforce_stationarity=False,\n",
        "                                enforce_invertibility=False)\n",
        "results = mod.fit()\n",
        "pred_uc = results.get_forecast(steps=3000)"
      ],
      "execution_count": 0,
      "outputs": [
        {
          "output_type": "error",
          "ename": "TypeError",
          "evalue": "ignored",
          "traceback": [
            "\u001b[0;31m---------------------------------------------------------------------------\u001b[0m",
            "\u001b[0;31mTypeError\u001b[0m                                 Traceback (most recent call last)",
            "\u001b[0;32m<ipython-input-108-73fc891d516e>\u001b[0m in \u001b[0;36m<module>\u001b[0;34m()\u001b[0m\n\u001b[1;32m      6\u001b[0m                                 enforce_invertibility=False)\n\u001b[1;32m      7\u001b[0m \u001b[0mresults\u001b[0m \u001b[0;34m=\u001b[0m \u001b[0mmod\u001b[0m\u001b[0;34m.\u001b[0m\u001b[0mfit\u001b[0m\u001b[0;34m(\u001b[0m\u001b[0;34m)\u001b[0m\u001b[0;34m\u001b[0m\u001b[0;34m\u001b[0m\u001b[0m\n\u001b[0;32m----> 8\u001b[0;31m \u001b[0mpred_uc\u001b[0m \u001b[0;34m=\u001b[0m \u001b[0mresults\u001b[0m\u001b[0;34m.\u001b[0m\u001b[0mget_forecast\u001b[0m\u001b[0;34m(\u001b[0m\u001b[0msteps\u001b[0m\u001b[0;34m=\u001b[0m\u001b[0;36m3000\u001b[0m\u001b[0;34m)\u001b[0m\u001b[0;34m\u001b[0m\u001b[0;34m\u001b[0m\u001b[0m\n\u001b[0m",
            "\u001b[0;32m/usr/local/lib/python3.6/dist-packages/statsmodels/tsa/statespace/mlemodel.py\u001b[0m in \u001b[0;36mget_forecast\u001b[0;34m(self, steps, **kwargs)\u001b[0m\n\u001b[1;32m   2329\u001b[0m         \u001b[0;32melse\u001b[0m\u001b[0;34m:\u001b[0m\u001b[0;34m\u001b[0m\u001b[0;34m\u001b[0m\u001b[0m\n\u001b[1;32m   2330\u001b[0m             \u001b[0mend\u001b[0m \u001b[0;34m=\u001b[0m \u001b[0msteps\u001b[0m\u001b[0;34m\u001b[0m\u001b[0;34m\u001b[0m\u001b[0m\n\u001b[0;32m-> 2331\u001b[0;31m         \u001b[0;32mreturn\u001b[0m \u001b[0mself\u001b[0m\u001b[0;34m.\u001b[0m\u001b[0mget_prediction\u001b[0m\u001b[0;34m(\u001b[0m\u001b[0mstart\u001b[0m\u001b[0;34m=\u001b[0m\u001b[0mself\u001b[0m\u001b[0;34m.\u001b[0m\u001b[0mnobs\u001b[0m\u001b[0;34m,\u001b[0m \u001b[0mend\u001b[0m\u001b[0;34m=\u001b[0m\u001b[0mend\u001b[0m\u001b[0;34m,\u001b[0m \u001b[0;34m**\u001b[0m\u001b[0mkwargs\u001b[0m\u001b[0;34m)\u001b[0m\u001b[0;34m\u001b[0m\u001b[0;34m\u001b[0m\u001b[0m\n\u001b[0m\u001b[1;32m   2332\u001b[0m \u001b[0;34m\u001b[0m\u001b[0m\n\u001b[1;32m   2333\u001b[0m     \u001b[0;32mdef\u001b[0m \u001b[0mpredict\u001b[0m\u001b[0;34m(\u001b[0m\u001b[0mself\u001b[0m\u001b[0;34m,\u001b[0m \u001b[0mstart\u001b[0m\u001b[0;34m=\u001b[0m\u001b[0;32mNone\u001b[0m\u001b[0;34m,\u001b[0m \u001b[0mend\u001b[0m\u001b[0;34m=\u001b[0m\u001b[0;32mNone\u001b[0m\u001b[0;34m,\u001b[0m \u001b[0mdynamic\u001b[0m\u001b[0;34m=\u001b[0m\u001b[0;32mFalse\u001b[0m\u001b[0;34m,\u001b[0m \u001b[0;34m**\u001b[0m\u001b[0mkwargs\u001b[0m\u001b[0;34m)\u001b[0m\u001b[0;34m:\u001b[0m\u001b[0;34m\u001b[0m\u001b[0;34m\u001b[0m\u001b[0m\n",
            "\u001b[0;32m/usr/local/lib/python3.6/dist-packages/statsmodels/tsa/statespace/sarimax.py\u001b[0m in \u001b[0;36mget_prediction\u001b[0;34m(self, start, end, dynamic, exog, **kwargs)\u001b[0m\n\u001b[1;32m   1880\u001b[0m \u001b[0;34m\u001b[0m\u001b[0m\n\u001b[1;32m   1881\u001b[0m         \u001b[0;31m# Handle end (e.g. date)\u001b[0m\u001b[0;34m\u001b[0m\u001b[0;34m\u001b[0m\u001b[0;34m\u001b[0m\u001b[0m\n\u001b[0;32m-> 1882\u001b[0;31m         \u001b[0m_start\u001b[0m \u001b[0;34m=\u001b[0m \u001b[0mself\u001b[0m\u001b[0;34m.\u001b[0m\u001b[0mmodel\u001b[0m\u001b[0;34m.\u001b[0m\u001b[0m_get_predict_start\u001b[0m\u001b[0;34m(\u001b[0m\u001b[0mstart\u001b[0m\u001b[0;34m)\u001b[0m\u001b[0;34m\u001b[0m\u001b[0;34m\u001b[0m\u001b[0m\n\u001b[0m\u001b[1;32m   1883\u001b[0m         \u001b[0m_end\u001b[0m\u001b[0;34m,\u001b[0m \u001b[0m_out_of_sample\u001b[0m \u001b[0;34m=\u001b[0m \u001b[0mself\u001b[0m\u001b[0;34m.\u001b[0m\u001b[0mmodel\u001b[0m\u001b[0;34m.\u001b[0m\u001b[0m_get_predict_end\u001b[0m\u001b[0;34m(\u001b[0m\u001b[0mend\u001b[0m\u001b[0;34m)\u001b[0m\u001b[0;34m\u001b[0m\u001b[0;34m\u001b[0m\u001b[0m\n\u001b[1;32m   1884\u001b[0m \u001b[0;34m\u001b[0m\u001b[0m\n",
            "\u001b[0;32m/usr/local/lib/python3.6/dist-packages/statsmodels/tsa/base/tsa_model.py\u001b[0m in \u001b[0;36m_get_predict_start\u001b[0;34m(self, start)\u001b[0m\n\u001b[1;32m    139\u001b[0m                         (str(start), str(dtstart)))\n\u001b[1;32m    140\u001b[0m \u001b[0;34m\u001b[0m\u001b[0m\n\u001b[0;32m--> 141\u001b[0;31m         \u001b[0mself\u001b[0m\u001b[0;34m.\u001b[0m\u001b[0m_set_predict_start_date\u001b[0m\u001b[0;34m(\u001b[0m\u001b[0mstart\u001b[0m\u001b[0;34m)\u001b[0m\u001b[0;34m\u001b[0m\u001b[0;34m\u001b[0m\u001b[0m\n\u001b[0m\u001b[1;32m    142\u001b[0m         \u001b[0;32mreturn\u001b[0m \u001b[0mstart\u001b[0m\u001b[0;34m\u001b[0m\u001b[0;34m\u001b[0m\u001b[0m\n\u001b[1;32m    143\u001b[0m \u001b[0;34m\u001b[0m\u001b[0m\n",
            "\u001b[0;32m/usr/local/lib/python3.6/dist-packages/statsmodels/tsa/base/tsa_model.py\u001b[0m in \u001b[0;36m_set_predict_start_date\u001b[0;34m(self, start)\u001b[0m\n\u001b[1;32m    113\u001b[0m         \u001b[0;32mif\u001b[0m \u001b[0mstart\u001b[0m \u001b[0;34m==\u001b[0m \u001b[0mlen\u001b[0m\u001b[0;34m(\u001b[0m\u001b[0mdates\u001b[0m\u001b[0;34m)\u001b[0m\u001b[0;34m:\u001b[0m\u001b[0;34m\u001b[0m\u001b[0;34m\u001b[0m\u001b[0m\n\u001b[1;32m    114\u001b[0m             self.data.predict_start = datetools._date_from_idx(dates[-1],\n\u001b[0;32m--> 115\u001b[0;31m                                                     1, self.data.freq)\n\u001b[0m\u001b[1;32m    116\u001b[0m         \u001b[0;32melif\u001b[0m \u001b[0mstart\u001b[0m \u001b[0;34m<\u001b[0m \u001b[0mlen\u001b[0m\u001b[0;34m(\u001b[0m\u001b[0mdates\u001b[0m\u001b[0;34m)\u001b[0m\u001b[0;34m:\u001b[0m\u001b[0;34m\u001b[0m\u001b[0;34m\u001b[0m\u001b[0m\n\u001b[1;32m    117\u001b[0m             \u001b[0mself\u001b[0m\u001b[0;34m.\u001b[0m\u001b[0mdata\u001b[0m\u001b[0;34m.\u001b[0m\u001b[0mpredict_start\u001b[0m \u001b[0;34m=\u001b[0m \u001b[0mdates\u001b[0m\u001b[0;34m[\u001b[0m\u001b[0mstart\u001b[0m\u001b[0;34m]\u001b[0m\u001b[0;34m\u001b[0m\u001b[0;34m\u001b[0m\u001b[0m\n",
            "\u001b[0;32m/usr/local/lib/python3.6/dist-packages/statsmodels/tsa/base/datetools.py\u001b[0m in \u001b[0;36m_date_from_idx\u001b[0;34m(d1, idx, freq)\u001b[0m\n\u001b[1;32m     84\u001b[0m     \u001b[0moffset\u001b[0m\u001b[0;34m.\u001b[0m \u001b[0mFor\u001b[0m \u001b[0mnow\u001b[0m\u001b[0;34m,\u001b[0m \u001b[0mthis\u001b[0m \u001b[0mneeds\u001b[0m \u001b[0mto\u001b[0m \u001b[0mbe\u001b[0m \u001b[0mtaken\u001b[0m \u001b[0mcare\u001b[0m \u001b[0mof\u001b[0m \u001b[0mbefore\u001b[0m \u001b[0myou\u001b[0m \u001b[0mget\u001b[0m \u001b[0mhere\u001b[0m\u001b[0;34m.\u001b[0m\u001b[0;34m\u001b[0m\u001b[0;34m\u001b[0m\u001b[0m\n\u001b[1;32m     85\u001b[0m     \"\"\"\n\u001b[0;32m---> 86\u001b[0;31m     \u001b[0;32mreturn\u001b[0m \u001b[0m_maybe_convert_period\u001b[0m\u001b[0;34m(\u001b[0m\u001b[0md1\u001b[0m\u001b[0;34m)\u001b[0m \u001b[0;34m+\u001b[0m \u001b[0mint\u001b[0m\u001b[0;34m(\u001b[0m\u001b[0midx\u001b[0m\u001b[0;34m)\u001b[0m \u001b[0;34m*\u001b[0m \u001b[0m_freq_to_pandas\u001b[0m\u001b[0;34m[\u001b[0m\u001b[0mfreq\u001b[0m\u001b[0;34m]\u001b[0m\u001b[0;34m\u001b[0m\u001b[0;34m\u001b[0m\u001b[0m\n\u001b[0m\u001b[1;32m     87\u001b[0m \u001b[0;34m\u001b[0m\u001b[0m\n\u001b[1;32m     88\u001b[0m \u001b[0;34m\u001b[0m\u001b[0m\n",
            "\u001b[0;31mTypeError\u001b[0m: unsupported operand type(s) for *: 'int' and 'NoneType'"
          ]
        }
      ]
    },
    {
      "metadata": {
        "id": "6Y9DVhtohYgt",
        "colab_type": "code",
        "colab": {}
      },
      "cell_type": "code",
      "source": [
        "future = m.make_future_dataframe(periods=len(test))\n",
        "forecast = m.predict(future)"
      ],
      "execution_count": 0,
      "outputs": []
    },
    {
      "metadata": {
        "id": "jSzvu6uurTRy",
        "colab_type": "code",
        "colab": {}
      },
      "cell_type": "code",
      "source": [
        "forecast=forecast[-3000:]\n"
      ],
      "execution_count": 0,
      "outputs": []
    },
    {
      "metadata": {
        "id": "jOrODe5Rwbk8",
        "colab_type": "code",
        "outputId": "f9861ca5-8bd1-4387-f50e-eecddf7075fa",
        "colab": {
          "base_uri": "https://localhost:8080/",
          "height": 226
        }
      },
      "cell_type": "code",
      "source": [
        "forecast['yhat']"
      ],
      "execution_count": 0,
      "outputs": [
        {
          "output_type": "execute_result",
          "data": {
            "text/html": [
              "<div>\n",
              "<style scoped>\n",
              "    .dataframe tbody tr th:only-of-type {\n",
              "        vertical-align: middle;\n",
              "    }\n",
              "\n",
              "    .dataframe tbody tr th {\n",
              "        vertical-align: top;\n",
              "    }\n",
              "\n",
              "    .dataframe thead th {\n",
              "        text-align: right;\n",
              "    }\n",
              "</style>\n",
              "<table border=\"1\" class=\"dataframe\">\n",
              "  <thead>\n",
              "    <tr style=\"text-align: right;\">\n",
              "      <th></th>\n",
              "      <th>ds</th>\n",
              "      <th>trend</th>\n",
              "      <th>yhat_lower</th>\n",
              "      <th>yhat_upper</th>\n",
              "      <th>trend_lower</th>\n",
              "      <th>trend_upper</th>\n",
              "      <th>additive_terms</th>\n",
              "      <th>additive_terms_lower</th>\n",
              "      <th>additive_terms_upper</th>\n",
              "      <th>weekly</th>\n",
              "      <th>weekly_lower</th>\n",
              "      <th>weekly_upper</th>\n",
              "      <th>yearly</th>\n",
              "      <th>yearly_lower</th>\n",
              "      <th>yearly_upper</th>\n",
              "      <th>multiplicative_terms</th>\n",
              "      <th>multiplicative_terms_lower</th>\n",
              "      <th>multiplicative_terms_upper</th>\n",
              "      <th>yhat</th>\n",
              "    </tr>\n",
              "  </thead>\n",
              "  <tbody>\n",
              "    <tr>\n",
              "      <th>8430</th>\n",
              "      <td>2006-10-18</td>\n",
              "      <td>0.718039</td>\n",
              "      <td>0.334015</td>\n",
              "      <td>1.237137</td>\n",
              "      <td>0.718039</td>\n",
              "      <td>0.718039</td>\n",
              "      <td>0.058322</td>\n",
              "      <td>0.058322</td>\n",
              "      <td>0.058322</td>\n",
              "      <td>0.001010</td>\n",
              "      <td>0.001010</td>\n",
              "      <td>0.001010</td>\n",
              "      <td>0.057313</td>\n",
              "      <td>0.057313</td>\n",
              "      <td>0.057313</td>\n",
              "      <td>0.0</td>\n",
              "      <td>0.0</td>\n",
              "      <td>0.0</td>\n",
              "      <td>0.776361</td>\n",
              "    </tr>\n",
              "    <tr>\n",
              "      <th>8431</th>\n",
              "      <td>2006-10-19</td>\n",
              "      <td>0.718041</td>\n",
              "      <td>0.315843</td>\n",
              "      <td>1.223833</td>\n",
              "      <td>0.718041</td>\n",
              "      <td>0.718041</td>\n",
              "      <td>0.053452</td>\n",
              "      <td>0.053452</td>\n",
              "      <td>0.053452</td>\n",
              "      <td>-0.002125</td>\n",
              "      <td>-0.002125</td>\n",
              "      <td>-0.002125</td>\n",
              "      <td>0.055577</td>\n",
              "      <td>0.055577</td>\n",
              "      <td>0.055577</td>\n",
              "      <td>0.0</td>\n",
              "      <td>0.0</td>\n",
              "      <td>0.0</td>\n",
              "      <td>0.771493</td>\n",
              "    </tr>\n",
              "    <tr>\n",
              "      <th>8432</th>\n",
              "      <td>2006-10-20</td>\n",
              "      <td>0.718043</td>\n",
              "      <td>0.279461</td>\n",
              "      <td>1.239325</td>\n",
              "      <td>0.718043</td>\n",
              "      <td>0.718043</td>\n",
              "      <td>0.051624</td>\n",
              "      <td>0.051624</td>\n",
              "      <td>0.051624</td>\n",
              "      <td>-0.001979</td>\n",
              "      <td>-0.001979</td>\n",
              "      <td>-0.001979</td>\n",
              "      <td>0.053603</td>\n",
              "      <td>0.053603</td>\n",
              "      <td>0.053603</td>\n",
              "      <td>0.0</td>\n",
              "      <td>0.0</td>\n",
              "      <td>0.0</td>\n",
              "      <td>0.769667</td>\n",
              "    </tr>\n",
              "    <tr>\n",
              "      <th>8433</th>\n",
              "      <td>2006-10-21</td>\n",
              "      <td>0.718045</td>\n",
              "      <td>0.327668</td>\n",
              "      <td>1.220041</td>\n",
              "      <td>0.718045</td>\n",
              "      <td>0.718045</td>\n",
              "      <td>0.048548</td>\n",
              "      <td>0.048548</td>\n",
              "      <td>0.048548</td>\n",
              "      <td>-0.002871</td>\n",
              "      <td>-0.002871</td>\n",
              "      <td>-0.002871</td>\n",
              "      <td>0.051419</td>\n",
              "      <td>0.051419</td>\n",
              "      <td>0.051419</td>\n",
              "      <td>0.0</td>\n",
              "      <td>0.0</td>\n",
              "      <td>0.0</td>\n",
              "      <td>0.766593</td>\n",
              "    </tr>\n",
              "    <tr>\n",
              "      <th>8434</th>\n",
              "      <td>2006-10-22</td>\n",
              "      <td>0.718047</td>\n",
              "      <td>0.324752</td>\n",
              "      <td>1.219472</td>\n",
              "      <td>0.718047</td>\n",
              "      <td>0.718047</td>\n",
              "      <td>0.048429</td>\n",
              "      <td>0.048429</td>\n",
              "      <td>0.048429</td>\n",
              "      <td>-0.000626</td>\n",
              "      <td>-0.000626</td>\n",
              "      <td>-0.000626</td>\n",
              "      <td>0.049055</td>\n",
              "      <td>0.049055</td>\n",
              "      <td>0.049055</td>\n",
              "      <td>0.0</td>\n",
              "      <td>0.0</td>\n",
              "      <td>0.0</td>\n",
              "      <td>0.766476</td>\n",
              "    </tr>\n",
              "  </tbody>\n",
              "</table>\n",
              "</div>"
            ],
            "text/plain": [
              "             ds     trend  yhat_lower  yhat_upper  trend_lower  trend_upper  \\\n",
              "8430 2006-10-18  0.718039    0.334015    1.237137     0.718039     0.718039   \n",
              "8431 2006-10-19  0.718041    0.315843    1.223833     0.718041     0.718041   \n",
              "8432 2006-10-20  0.718043    0.279461    1.239325     0.718043     0.718043   \n",
              "8433 2006-10-21  0.718045    0.327668    1.220041     0.718045     0.718045   \n",
              "8434 2006-10-22  0.718047    0.324752    1.219472     0.718047     0.718047   \n",
              "\n",
              "      additive_terms  additive_terms_lower  additive_terms_upper    weekly  \\\n",
              "8430        0.058322              0.058322              0.058322  0.001010   \n",
              "8431        0.053452              0.053452              0.053452 -0.002125   \n",
              "8432        0.051624              0.051624              0.051624 -0.001979   \n",
              "8433        0.048548              0.048548              0.048548 -0.002871   \n",
              "8434        0.048429              0.048429              0.048429 -0.000626   \n",
              "\n",
              "      weekly_lower  weekly_upper    yearly  yearly_lower  yearly_upper  \\\n",
              "8430      0.001010      0.001010  0.057313      0.057313      0.057313   \n",
              "8431     -0.002125     -0.002125  0.055577      0.055577      0.055577   \n",
              "8432     -0.001979     -0.001979  0.053603      0.053603      0.053603   \n",
              "8433     -0.002871     -0.002871  0.051419      0.051419      0.051419   \n",
              "8434     -0.000626     -0.000626  0.049055      0.049055      0.049055   \n",
              "\n",
              "      multiplicative_terms  multiplicative_terms_lower  \\\n",
              "8430                   0.0                         0.0   \n",
              "8431                   0.0                         0.0   \n",
              "8432                   0.0                         0.0   \n",
              "8433                   0.0                         0.0   \n",
              "8434                   0.0                         0.0   \n",
              "\n",
              "      multiplicative_terms_upper      yhat  \n",
              "8430                         0.0  0.776361  \n",
              "8431                         0.0  0.771493  \n",
              "8432                         0.0  0.769667  \n",
              "8433                         0.0  0.766593  \n",
              "8434                         0.0  0.766476  "
            ]
          },
          "metadata": {
            "tags": []
          },
          "execution_count": 105
        }
      ]
    },
    {
      "metadata": {
        "id": "bIqvYiLOhPFB",
        "colab_type": "code",
        "colab": {}
      },
      "cell_type": "code",
      "source": [
        "submit=pd.read_csv('sample_data/sample_submission.csv')\n",
        "submit['5 year']=preds[::-1]\n",
        "submit.to_csv('submit.csv',index=False)"
      ],
      "execution_count": 0,
      "outputs": []
    }
  ]
}